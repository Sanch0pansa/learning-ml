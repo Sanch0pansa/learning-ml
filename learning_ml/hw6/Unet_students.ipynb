{
  "cells": [
    {
      "cell_type": "markdown",
      "metadata": {
        "id": "UOSS5JahymVZ"
      },
      "source": [
        "# Unet"
      ]
    },
    {
      "cell_type": "markdown",
      "metadata": {
        "id": "jYriOD_-u2OJ"
      },
      "source": [
        "## Configuring Your Development Environment"
      ]
    },
    {
      "cell_type": "code",
      "execution_count": null,
      "metadata": {
        "colab": {
          "base_uri": "https://localhost:8080/"
        },
        "id": "dTTb9k6OuwqA",
        "outputId": "85f1b8f1-a54f-401b-85e8-cc4b13533a7c"
      },
      "outputs": [
        {
          "name": "stdout",
          "output_type": "stream",
          "text": [
            "Looking in indexes: https://pypi.org/simple, https://us-python.pkg.dev/colab-wheels/public/simple/\n",
            "Requirement already satisfied: torch in /usr/local/lib/python3.9/dist-packages (1.13.1+cu116)\n",
            "Requirement already satisfied: torchvision in /usr/local/lib/python3.9/dist-packages (0.14.1+cu116)\n",
            "Requirement already satisfied: typing-extensions in /usr/local/lib/python3.9/dist-packages (from torch) (4.5.0)\n",
            "Requirement already satisfied: pillow!=8.3.*,>=5.3.0 in /usr/local/lib/python3.9/dist-packages (from torchvision) (8.4.0)\n",
            "Requirement already satisfied: numpy in /usr/local/lib/python3.9/dist-packages (from torchvision) (1.22.4)\n",
            "Requirement already satisfied: requests in /usr/local/lib/python3.9/dist-packages (from torchvision) (2.27.1)\n",
            "Requirement already satisfied: idna<4,>=2.5 in /usr/local/lib/python3.9/dist-packages (from requests->torchvision) (3.4)\n",
            "Requirement already satisfied: certifi>=2017.4.17 in /usr/local/lib/python3.9/dist-packages (from requests->torchvision) (2022.12.7)\n",
            "Requirement already satisfied: urllib3<1.27,>=1.21.1 in /usr/local/lib/python3.9/dist-packages (from requests->torchvision) (1.26.15)\n",
            "Requirement already satisfied: charset-normalizer~=2.0.0 in /usr/local/lib/python3.9/dist-packages (from requests->torchvision) (2.0.12)\n",
            "Looking in indexes: https://pypi.org/simple, https://us-python.pkg.dev/colab-wheels/public/simple/\n",
            "Requirement already satisfied: matplotlib in /usr/local/lib/python3.9/dist-packages (3.7.1)\n",
            "Requirement already satisfied: packaging>=20.0 in /usr/local/lib/python3.9/dist-packages (from matplotlib) (23.0)\n",
            "Requirement already satisfied: contourpy>=1.0.1 in /usr/local/lib/python3.9/dist-packages (from matplotlib) (1.0.7)\n",
            "Requirement already satisfied: pillow>=6.2.0 in /usr/local/lib/python3.9/dist-packages (from matplotlib) (8.4.0)\n",
            "Requirement already satisfied: python-dateutil>=2.7 in /usr/local/lib/python3.9/dist-packages (from matplotlib) (2.8.2)\n",
            "Requirement already satisfied: importlib-resources>=3.2.0 in /usr/local/lib/python3.9/dist-packages (from matplotlib) (5.12.0)\n",
            "Requirement already satisfied: numpy>=1.20 in /usr/local/lib/python3.9/dist-packages (from matplotlib) (1.22.4)\n",
            "Requirement already satisfied: pyparsing>=2.3.1 in /usr/local/lib/python3.9/dist-packages (from matplotlib) (3.0.9)\n",
            "Requirement already satisfied: fonttools>=4.22.0 in /usr/local/lib/python3.9/dist-packages (from matplotlib) (4.39.2)\n",
            "Requirement already satisfied: kiwisolver>=1.0.1 in /usr/local/lib/python3.9/dist-packages (from matplotlib) (1.4.4)\n",
            "Requirement already satisfied: cycler>=0.10 in /usr/local/lib/python3.9/dist-packages (from matplotlib) (0.11.0)\n",
            "Requirement already satisfied: zipp>=3.1.0 in /usr/local/lib/python3.9/dist-packages (from importlib-resources>=3.2.0->matplotlib) (3.15.0)\n",
            "Requirement already satisfied: six>=1.5 in /usr/local/lib/python3.9/dist-packages (from python-dateutil>=2.7->matplotlib) (1.16.0)\n",
            "Looking in indexes: https://pypi.org/simple, https://us-python.pkg.dev/colab-wheels/public/simple/\n",
            "Requirement already satisfied: opencv-contrib-python in /usr/local/lib/python3.9/dist-packages (4.7.0.72)\n",
            "Requirement already satisfied: numpy>=1.17.0 in /usr/local/lib/python3.9/dist-packages (from opencv-contrib-python) (1.22.4)\n",
            "Looking in indexes: https://pypi.org/simple, https://us-python.pkg.dev/colab-wheels/public/simple/\n",
            "Requirement already satisfied: imutils in /usr/local/lib/python3.9/dist-packages (0.5.4)\n",
            "Looking in indexes: https://pypi.org/simple, https://us-python.pkg.dev/colab-wheels/public/simple/\n",
            "Requirement already satisfied: scikit-learn in /usr/local/lib/python3.9/dist-packages (1.2.2)\n",
            "Requirement already satisfied: numpy>=1.17.3 in /usr/local/lib/python3.9/dist-packages (from scikit-learn) (1.22.4)\n",
            "Requirement already satisfied: scipy>=1.3.2 in /usr/local/lib/python3.9/dist-packages (from scikit-learn) (1.10.1)\n",
            "Requirement already satisfied: threadpoolctl>=2.0.0 in /usr/local/lib/python3.9/dist-packages (from scikit-learn) (3.1.0)\n",
            "Requirement already satisfied: joblib>=1.1.1 in /usr/local/lib/python3.9/dist-packages (from scikit-learn) (1.1.1)\n",
            "Looking in indexes: https://pypi.org/simple, https://us-python.pkg.dev/colab-wheels/public/simple/\n",
            "Requirement already satisfied: tqdm in /usr/local/lib/python3.9/dist-packages (4.65.0)\n"
          ]
        }
      ],
      "source": [
        "!pip install torch torchvision\n",
        "!pip install matplotlib\n",
        "!pip install opencv-contrib-python\n",
        "!pip install imutils\n",
        "!pip install scikit-learn\n",
        "!pip install tqdm"
      ]
    },
    {
      "cell_type": "markdown",
      "metadata": {
        "id": "sn_m_xWXvY2P"
      },
      "source": [
        "Данные\n",
        "\n",
        "![](https://b2633864.smushcdn.com/2633864/wp-content/uploads/2021/11/TGS_Salt_dataset_optimized.png?lossy=1&strip=1&webp=1)\n",
        "\n",
        "https://www.kaggle.com/competitions/tgs-salt-identification-challenge/data"
      ]
    },
    {
      "cell_type": "markdown",
      "metadata": {
        "id": "8yjgyIYyvBMT"
      },
      "source": [
        "## Project structure"
      ]
    },
    {
      "cell_type": "code",
      "execution_count": null,
      "metadata": {
        "id": "2G_rjGF3vAsc"
      },
      "outputs": [],
      "source": [
        "# .\n",
        "# ├── dataset\n",
        "# │   └── train\n",
        "# ├── output\n",
        "# ├── pyimagesearch\n",
        "# │   ├── config.py\n",
        "# │   ├── dataset.py\n",
        "# │   └── model.py\n",
        "# ├── predict.py\n",
        "# └── train.py"
      ]
    },
    {
      "cell_type": "markdown",
      "metadata": {
        "id": "H9qBPub3vHr3"
      },
      "source": [
        "## config.py"
      ]
    },
    {
      "cell_type": "code",
      "execution_count": 1,
      "metadata": {
        "id": "_aour3d0vDnW"
      },
      "outputs": [],
      "source": [
        "# import the necessary packages\n",
        "import torch\n",
        "import os\n",
        "\n",
        "# base path of the dataset\n",
        "DATASET_PATH = os.path.join(\"dataset\", \"train\")\n",
        "\n",
        "# define the path to the images and masks dataset\n",
        "IMAGE_DATASET_PATH = os.path.join(DATASET_PATH, \"images\")\n",
        "MASK_DATASET_PATH = os.path.join(DATASET_PATH, \"masks\")\n",
        "\n",
        "# define the test split\n",
        "TEST_SPLIT = 0.15\n",
        "\n",
        "# determine the device to be used for training and evaluation\n",
        "DEVICE = \"cuda\" if torch.cuda.is_available() else \"cpu\"\n",
        "\n",
        "# determine if we will be pinning memory during data loading\n",
        "PIN_MEMORY = True if DEVICE == \"cuda\" else False\n",
        "\n",
        "# define the number of channels in the input, number of classes,\n",
        "# and number of levels in the U-Net model\n",
        "NUM_CHANNELS = 1\n",
        "NUM_CLASSES = 1\n",
        "NUM_LEVELS = 3\n",
        "\n",
        "# initialize learning rate, number of epochs to train for, and the\n",
        "# batch size\n",
        "INIT_LR = 0.001\n",
        "NUM_EPOCHS = 40\n",
        "BATCH_SIZE = 64\n",
        "\n",
        "# define the input image dimensions\n",
        "INPUT_IMAGE_WIDTH = 128\n",
        "INPUT_IMAGE_HEIGHT = 128\n",
        "\n",
        "# define threshold to filter weak predictions\n",
        "THRESHOLD = 0.5\n",
        "\n",
        "# define the path to the base output directory\n",
        "BASE_OUTPUT = \"output\"\n",
        "\n",
        "# define the path to the output serialized model, model training\n",
        "# plot, and testing image paths\n",
        "MODEL_PATH = os.path.join(BASE_OUTPUT, \"unet_tgs_salt.pth\")\n",
        "PLOT_PATH = os.path.sep.join([BASE_OUTPUT, \"plot.png\"])\n",
        "TEST_PATHS = os.path.sep.join([BASE_OUTPUT, \"test_paths.txt\"])"
      ]
    },
    {
      "cell_type": "markdown",
      "metadata": {
        "id": "jG4lJlB3v5EC"
      },
      "source": [
        "Dataset"
      ]
    },
    {
      "cell_type": "code",
      "execution_count": 2,
      "metadata": {
        "id": "PC6vKOLzvv9i"
      },
      "outputs": [],
      "source": [
        "# import the necessary packages\n",
        "from torch.utils.data import Dataset\n",
        "import cv2\n",
        "\n",
        "class SegmentationDataset(Dataset):\n",
        "\tdef __init__(self, imagePaths, maskPaths, transforms):\n",
        "\t\t# store the image and mask filepaths, and augmentation\n",
        "\t\t# transforms\n",
        "\n",
        "\t\tself.imagePaths = imagePaths\n",
        "\t\tself.maskPaths = maskPaths\n",
        "\t\tself.transforms = transforms\n",
        "\n",
        "\tdef __len__(self):\n",
        "\t\t# return the number of total samples contained in the dataset\n",
        "\t\treturn len(self.imagePaths)\n",
        "\n",
        "\tdef __getitem__(self, idx):\n",
        "\t\t# grab the image path from the current index\n",
        "\t\timagePath = self.imagePaths[idx]\n",
        "\n",
        "\t\t# load the image from disk, swap its channels from BGR to RGB,\n",
        "\t\t# and read the associated mask from disk in grayscale mode\n",
        "\t\timage = cv2.imread(imagePath)\n",
        "\t\timage = cv2.cvtColor(image, cv2.COLOR_BGR2RGB)\n",
        "\t\tmask = cv2.imread(self.maskPaths[idx], 0)\n",
        "\n",
        "\t\t# check to see if we are applying any transformations\n",
        "\t\tif self.transforms is not None:\n",
        "\t\t\t# apply the transformations to both image and its mask\n",
        "\t\t\timage = self.transforms(image)\n",
        "\t\t\tmask = self.transforms(mask)\n",
        "\n",
        "\t\t# return a tuple of the image and its mask\n",
        "\t\treturn (image, mask)"
      ]
    },
    {
      "cell_type": "markdown",
      "metadata": {
        "id": "HfVT8ZgLv-hG"
      },
      "source": [
        "## model.py"
      ]
    },
    {
      "cell_type": "markdown",
      "metadata": {
        "id": "svCZ6OSizIJB"
      },
      "source": [
        "https://arxiv.org/pdf/1505.04597.pdf"
      ]
    },
    {
      "cell_type": "code",
      "execution_count": 3,
      "metadata": {
        "id": "il85IV8lv_mc"
      },
      "outputs": [],
      "source": [
        "# import the necessary packages\n",
        "# from . import config\n",
        "from torch.nn import ConvTranspose2d\n",
        "from torch.nn import Conv2d\n",
        "from torch.nn import MaxPool2d\n",
        "from torch.nn import Module\n",
        "from torch.nn import ModuleList\n",
        "from torch.nn import ReLU\n",
        "from torch.nn import Sequential\n",
        "from torchvision.transforms import CenterCrop\n",
        "from torch.nn import functional as F\n",
        "import torch"
      ]
    },
    {
      "cell_type": "markdown",
      "metadata": {
        "id": "2k-0tmGyyEdz"
      },
      "source": [
        "### Class Block"
      ]
    },
    {
      "cell_type": "code",
      "execution_count": 4,
      "metadata": {
        "id": "qCXSL6nFwBEl"
      },
      "outputs": [],
      "source": [
        "class Block(Module):\n",
        "\tdef __init__(self, in_channels, out_channels):\n",
        "\t\tsuper().__init__()\n",
        "\t\t# store the convolution and RELU layers\n",
        "\t\tself.n = Sequential(\n",
        "\t\t\tConv2d(in_channels=in_channels, out_channels=out_channels, kernel_size=3),\n",
        "\t\t\tReLU(),\n",
        "\t\t\tConv2d(in_channels=out_channels, out_channels=out_channels, kernel_size=3),\n",
        "\t\t)\n",
        "\n",
        "\n",
        "\tdef forward(self, x):\n",
        "\t\t# apply CONV => RELU => CONV block to the inputs and return it\n",
        "\t\tx = self.n(x)\n",
        "\t\treturn x\n"
      ]
    },
    {
      "cell_type": "markdown",
      "metadata": {
        "id": "QJVnbG1zyGto"
      },
      "source": [
        "### Class Encoder"
      ]
    },
    {
      "cell_type": "code",
      "execution_count": 5,
      "metadata": {
        "id": "Ri4WCXeywFPZ"
      },
      "outputs": [],
      "source": [
        "class Encoder(Module):\n",
        "\tdef __init__(self, channels=(3, 16, 32, 64)):\n",
        "\t\tsuper().__init__()\n",
        "\n",
        "\t\t# store the encoder blocks and maxpooling layer\n",
        "\t\tself.enc_blocks = ModuleList(\n",
        "\t\t\tBlock(in_channels=channels[i - 1], out_channels=channels[i])\n",
        "\t\t\tfor i in range(1, len(channels))\n",
        "\t\t)\n",
        "\n",
        "\t\tself.pool = MaxPool2d(kernel_size=2)\n",
        "\n",
        "\tdef forward(self, x):\n",
        "\t\t# initialize an empty list to store the intermediate outputs\n",
        "\t\tblock_outputs = []\n",
        "\n",
        "\t\t# loop through the encoder blocks\n",
        "\t\tfor block in self.enc_blocks:\n",
        "\t\t\t# pass the inputs through the current encoder block, store\n",
        "\t\t\t# the outputs, and then apply maxpooling on the output\n",
        "\t\t\tx = block(x)\n",
        "\t\t\t# print(x.shape)\n",
        "\t\t\tblock_outputs.append(x)\n",
        "\t\t\tx = self.pool(x)\n",
        "\n",
        "\t\t# return the list containing the intermediate outputs\n",
        "\t\treturn block_outputs"
      ]
    },
    {
      "cell_type": "markdown",
      "metadata": {
        "id": "tMe4wvBayIhw"
      },
      "source": [
        "### Class Decoder"
      ]
    },
    {
      "cell_type": "code",
      "execution_count": 6,
      "metadata": {
        "id": "y2U3h-h8wKHK"
      },
      "outputs": [],
      "source": [
        "class Decoder(Module):\n",
        "\tdef __init__(self, channels=(64, 32, 16)):\n",
        "\t\tsuper().__init__()\n",
        "\t\t# initialize the number of channels, upsampler blocks, and\n",
        "\t\t# decoder blocks\n",
        "\t\tself.channels = channels\n",
        "\n",
        "\t\tself.upconvs = ModuleList(\n",
        "\t\t\tConvTranspose2d(kernel_size=3, stride=2, in_channels=(channels[i]*2 if i == 0 else channels[i - 1]), out_channels=channels[i])\n",
        "\t\t\tfor i in range(0, len(channels))\n",
        "\t\t)\n",
        "\n",
        "\t\tself.dec_blocks = ModuleList(\n",
        "\t\t\tBlock(in_channels=(channels[i]*2 if i == 0 else channels[i - 1]), out_channels=channels[i])\n",
        "\t\t\tfor i in range(0, len(channels))\n",
        "\t\t)\n",
        "\n",
        "\tdef forward(self, x, enc_features):\n",
        "\t\t# loop through the number of channels\n",
        "\t\t\n",
        "\t\tfor i in range(len(self.channels)):\n",
        "\t\t\t# pass the inputs through the upsampler blocks\n",
        "\t\t\t(b, c, H, W) = x.size()\n",
        "\t\t\tx = self.upconvs[i](x, output_size=(b, c, H * 2, W * 2))\n",
        "\n",
        "\t\t\t# crop the current features from the encoder blocks,\n",
        "\t\t\t# concatenate them with the current upsampled features,\n",
        "\t\t\t# and pass the concatenated output through the current\n",
        "\t\t\t# decoder block\n",
        "\t\t\t# x = \n",
        "\t\t\t# create an transform for crop the image \n",
        "\t\t\t\n",
        "\t\t\t# use above created transform to crop  \n",
        "\t\t\t# the image \n",
        "\t\t\tenc_feature_crop = self.crop(enc_features[len(enc_features) - 1 - i], x)\n",
        "\n",
        "\t\t\tprint(x.shape, enc_feature_crop.shape)\n",
        "\t\t\t\n",
        "\t\t\tx = torch.cat((x, enc_feature_crop), dim=1)\n",
        "\t\t\tx = self.dec_blocks[i](x)\n",
        "\n",
        "\t\t# return the final decoder output\n",
        "\t\treturn x\n",
        "\n",
        "\tdef crop(self, enc_features, x):\n",
        "\t\t# grab the dimensions of the inputs, and crop the encoder\n",
        "\t\t# features to match the dimensions\n",
        "\t\t(_, _, H, W) = x.shape\n",
        "\t\tenc_features = CenterCrop([H, W])(enc_features)\n",
        "\n",
        "\t\t# return the cropped features\n",
        "\t\treturn enc_features"
      ]
    },
    {
      "cell_type": "markdown",
      "metadata": {
        "id": "CpSH3pMsyKmq"
      },
      "source": [
        "### Class Unet"
      ]
    },
    {
      "cell_type": "code",
      "execution_count": 7,
      "metadata": {
        "id": "RZV9VZfJwZmp"
      },
      "outputs": [],
      "source": [
        "class UNet(Module):\n",
        "\tdef __init__(self, enc_channels=(3, 16, 32, 64),\n",
        "\t\t dec_channels=(64, 32, 16),\n",
        "\t\t n_classes=1, retain_dim=True,\n",
        "\t\t#  out_size=(config.INPUT_IMAGE_HEIGHT,  config.INPUT_IMAGE_WIDTH)):\n",
        "\t\t out_size=(INPUT_IMAGE_HEIGHT,  INPUT_IMAGE_WIDTH)):\n",
        "\t\tsuper().__init__()\n",
        "\n",
        "\t\t# initialize the encoder and decoder\n",
        "\t\tself.encoder = Encoder(enc_channels)\n",
        "\t\tself.decoder = Decoder(dec_channels)\n",
        "\n",
        "\t\tself.middle_block = Block(in_channels=enc_channels[-1], out_channels=enc_channels[-1]*2)\n",
        "\n",
        "\t\t# initialize the regression head and store the class variables\n",
        "\t\tself.head = Conv2d(dec_channels[-1], n_classes, kernel_size=1)\n",
        "\t\tself.retain_dim = retain_dim\n",
        "\t\tself.out_size = out_size\n",
        "\n",
        "\tdef forward(self, x):\n",
        "\t\t# grab the features from the encoder\n",
        "\t\tenc_features = self.encoder(x)\n",
        "\n",
        "\t\tx = self.middle_block(enc_features[-1])\n",
        "\n",
        "\t\t# pass the encoder features through decoder making sure that\n",
        "\t\t# their dimensions are suited for concatenation\n",
        "\t\tdec_features = self.decoder.forward(x, enc_features)\n",
        "\n",
        "\t\t# pass the decoder features through the regression head to\n",
        "\t\t# obtain the segmentation mask\n",
        "\t\tmap = self.head(dec_features)\n",
        "\n",
        "\t\t# check to see if we are retaining the original output\n",
        "\t\t# dimensions and if so, then resize the output to match them\n",
        "\t\tif self.retain_dim:\n",
        "\t\t\tmap = F.interpolate(map, self.out_size)\n",
        "\n",
        "\t\t# return the segmentation map\n",
        "\t\treturn map"
      ]
    },
    {
      "cell_type": "markdown",
      "metadata": {
        "id": "uXBe85px0wpP"
      },
      "source": [
        "### Test model"
      ]
    },
    {
      "cell_type": "code",
      "execution_count": 8,
      "metadata": {
        "id": "R7i0Q3Pv0zUK"
      },
      "outputs": [
        {
          "name": "stdout",
          "output_type": "stream",
          "text": [
            "torch.Size([1, 64, 42, 42]) torch.Size([1, 64, 42, 42])\n",
            "torch.Size([1, 32, 76, 76]) torch.Size([1, 32, 76, 76])\n",
            "torch.Size([1, 16, 144, 144]) torch.Size([1, 16, 144, 144])\n"
          ]
        },
        {
          "data": {
            "text/plain": [
              "tensor([[[[-0.2065, -0.2055, -0.2066,  ..., -0.2065, -0.2055, -0.2066],\n",
              "          [-0.2055, -0.2057, -0.2055,  ..., -0.2055, -0.2057, -0.2055],\n",
              "          [-0.2065, -0.2052, -0.2065,  ..., -0.2065, -0.2052, -0.2065],\n",
              "          ...,\n",
              "          [-0.2065, -0.2055, -0.2066,  ..., -0.2065, -0.2055, -0.2066],\n",
              "          [-0.2056, -0.2057, -0.2055,  ..., -0.2056, -0.2057, -0.2055],\n",
              "          [-0.2065, -0.2052, -0.2065,  ..., -0.2065, -0.2052, -0.2065]]]],\n",
              "       grad_fn=<UpsampleNearest2DBackward0>)"
            ]
          },
          "execution_count": 8,
          "metadata": {},
          "output_type": "execute_result"
        }
      ],
      "source": [
        "x = torch.randn(1, 3, INPUT_IMAGE_HEIGHT, INPUT_IMAGE_WIDTH)\n",
        "model = UNet()\n",
        "y = model(x)\n",
        "y"
      ]
    },
    {
      "cell_type": "markdown",
      "metadata": {
        "id": "vacEoDj1wm7Y"
      },
      "source": [
        "## train.py"
      ]
    },
    {
      "cell_type": "code",
      "execution_count": null,
      "metadata": {
        "id": "T_Sjvb57wma3"
      },
      "outputs": [],
      "source": [
        "# load the image and mask filepaths in a sorted manner\n",
        "imagePaths = sorted(list(paths.list_images(config.IMAGE_DATASET_PATH)))\n",
        "maskPaths = sorted(list(paths.list_images(config.MASK_DATASET_PATH)))\n",
        "\n",
        "# partition the data into training and testing splits using 85% of\n",
        "# the data for training and the remaining 15% for testing\n",
        "split = train_test_split(imagePaths, maskPaths,\n",
        "\ttest_size=config.TEST_SPLIT, random_state=42)\n",
        "\n",
        "# unpack the data split\n",
        "(trainImages, testImages) = split[:2]\n",
        "(trainMasks, testMasks) = split[2:]\n",
        "\n",
        "# write the testing image paths to disk so that we can use then\n",
        "# when evaluating/testing our model\n",
        "print(\"[INFO] saving testing image paths...\")\n",
        "f = open(config.TEST_PATHS, \"w\")\n",
        "f.write(\"\\n\".join(testImages))\n",
        "f.close()"
      ]
    },
    {
      "cell_type": "code",
      "execution_count": null,
      "metadata": {
        "id": "7UKrysaxwvRs"
      },
      "outputs": [],
      "source": [
        "# define transformations\n",
        "transforms = transforms.Compose([transforms.ToPILImage(),\n",
        " \ttransforms.Resize((config.INPUT_IMAGE_HEIGHT,\n",
        "\t\tconfig.INPUT_IMAGE_WIDTH)),\n",
        "\ttransforms.ToTensor()])\n",
        "\n",
        "# create the train and test datasets\n",
        "trainDS = SegmentationDataset(imagePaths=trainImages, maskPaths=trainMasks,\n",
        "\ttransforms=transforms)\n",
        "testDS = SegmentationDataset(imagePaths=testImages, maskPaths=testMasks,\n",
        "    transforms=transforms)\n",
        "print(f\"[INFO] found {len(trainDS)} examples in the training set...\")\n",
        "print(f\"[INFO] found {len(testDS)} examples in the test set...\")\n",
        "\n",
        "# create the training and test data loaders\n",
        "trainLoader = DataLoader(trainDS, shuffle=True,\n",
        "\tbatch_size=config.BATCH_SIZE, pin_memory=config.PIN_MEMORY,\n",
        "\tnum_workers=os.cpu_count())\n",
        "testLoader = DataLoader(testDS, shuffle=False,\n",
        "\tbatch_size=config.BATCH_SIZE, pin_memory=config.PIN_MEMORY,\n",
        "\tnum_workers=os.cpu_count())"
      ]
    },
    {
      "cell_type": "code",
      "execution_count": null,
      "metadata": {
        "id": "G0qQMUbGw0bK"
      },
      "outputs": [],
      "source": [
        "from torch.nn.modules.loss import BCEWithLogitsLoss\n",
        "# initialize our UNet model\n",
        "unet = UNet().to(config.DEVICE)\n",
        "\n",
        "# initialize loss function and optimizer\n",
        "loss_func = BCEWithLogitsLoss()\n",
        "opt = Adam(unet.parameters(), lr=config.INIT_LR)\n",
        "\n",
        "# calculate steps per epoch for training and test set\n",
        "trainSteps = len(trainDS) // config.BATCH_SIZE\n",
        "testSteps = len(testDS) // config.BATCH_SIZE\n",
        "\n",
        "# initialize a dictionary to store training history\n",
        "H = {\"train_loss\": [], \"test_loss\": []}"
      ]
    },
    {
      "cell_type": "code",
      "execution_count": null,
      "metadata": {
        "id": "m7YxEFnmw56X"
      },
      "outputs": [],
      "source": [
        "# loop over epochs\n",
        "print(\"[INFO] training the network...\")\n",
        "startTime = time.time()\n",
        "\n",
        "for e in tqdm(range(config.NUM_EPOCHS)):\n",
        "\t# set the model in training mode\n",
        "\tunet.train()\n",
        "\n",
        "\t# initialize the total training and validation loss\n",
        "\ttotalTrainLoss = 0\n",
        "\ttotalTestLoss = 0\n",
        "\n",
        "\t# loop over the training set\n",
        "\tfor (i, (x, y)) in enumerate(trainLoader):\n",
        "\t\t# send the input to the device\n",
        "\t\t(x, y) = (x.to(config.DEVICE), y.to(config.DEVICE))\n",
        "\n",
        "\t\t# perform a forward pass and calculate the training loss\n",
        "\t\tpred = unet(x)\n",
        "\t\tloss = loss_func(pred, y)\n",
        "\n",
        "\t\t# first, zero out any previously accumulated gradients, then\n",
        "\t\t# perform backpropagation, and then update model parameters\n",
        "\t\topt.zero_grad()\n",
        "\t\tloss.backward()\n",
        "\t\topt.step()\n",
        "\n",
        "\t\t# add the loss to the total training loss so far\n",
        "\t\ttotalTrainLoss += loss\n",
        "\n",
        "\t# switch off autograd\n",
        "\twith torch.no_grad():\n",
        "\t\t# set the model in evaluation mode\n",
        "\t\tunet.eval()\n",
        "\n",
        "\t\t# loop over the validation set\n",
        "\t\tfor (x, y) in testLoader:\n",
        "\t\t\t# send the input to the device\n",
        "\t\t\t(x, y) = (x.to(config.DEVICE), y.to(config.DEVICE))\n",
        "\n",
        "\t\t\t# make the predictions and calculate the validation loss\n",
        "\t\t\tpred = unet(x)\n",
        "\t\t\ttotalTestLoss += loss_func(pred, y)\n",
        "\n",
        "\t# calculate the average training and validation loss\n",
        "\tavgTrainLoss = totalTrainLoss / trainSteps\n",
        "\tavgTestLoss = totalTestLoss / testSteps\n",
        "\n",
        "\t# update our training history\n",
        "\tH[\"train_loss\"].append(avgTrainLoss.cpu().detach().numpy())\n",
        "\tH[\"test_loss\"].append(avgTestLoss.cpu().detach().numpy())\n",
        "\n",
        "\t# print the model training and validation information\n",
        "\tprint(\"[INFO] EPOCH: {}/{}\".format(e + 1, config.NUM_EPOCHS))\n",
        "\tprint(\"Train loss: {:.6f}, Test loss: {:.4f}\".format(\n",
        "\t\tavgTrainLoss, avgTestLoss))\n",
        "\n",
        "# display the total time needed to perform the training\n",
        "endTime = time.time()\n",
        "print(\"[INFO] total time taken to train the model: {:.2f}s\".format(\n",
        "\tendTime - startTime))"
      ]
    },
    {
      "cell_type": "code",
      "execution_count": null,
      "metadata": {
        "id": "EULCv_xDxKtP"
      },
      "outputs": [],
      "source": [
        "# plot the training loss\n",
        "plt.style.use(\"ggplot\")\n",
        "plt.figure()\n",
        "plt.plot(H[\"train_loss\"], label=\"train_loss\")\n",
        "plt.plot(H[\"test_loss\"], label=\"test_loss\")\n",
        "plt.title(\"Training Loss on Dataset\")\n",
        "plt.xlabel(\"Epoch #\")\n",
        "plt.ylabel(\"Loss\")\n",
        "plt.legend(loc=\"lower left\")\n",
        "plt.savefig(config.PLOT_PATH)\n",
        "\n",
        "# serialize the model to disk\n",
        "torch.save(unet, config.MODEL_PATH)"
      ]
    },
    {
      "cell_type": "markdown",
      "metadata": {
        "id": "nxZC6x4Bx0Yg"
      },
      "source": [
        "## predict.py"
      ]
    },
    {
      "cell_type": "code",
      "execution_count": null,
      "metadata": {
        "id": "353_Tu6NxhUC"
      },
      "outputs": [],
      "source": [
        "# USAGE\n",
        "\n",
        "# python predict.py\n",
        "# import the necessary packages\n",
        "from pyimagesearch import config\n",
        "import matplotlib.pyplot as plt\n",
        "import numpy as np\n",
        "import torch\n",
        "import cv2\n",
        "import os\n",
        "\n",
        "def prepare_plot(origImage, origMask, predMask):\n",
        "\t# initialize our figure\n",
        "\tfigure, ax = plt.subplots(nrows=1, ncols=3, figsize=(10, 10))\n",
        "\n",
        "\t# plot the original image, its mask, and the predicted mask\n",
        "\tax[0].imshow(origImage)\n",
        "\tax[1].imshow(origMask)\n",
        "\tax[2].imshow(predMask)\n",
        "\n",
        "\t# set the titles of the subplots\n",
        "\tax[0].set_title(\"Image\")\n",
        "\tax[1].set_title(\"Original Mask\")\n",
        "\tax[2].set_title(\"Predicted Mask\")\n",
        "\n",
        "\t# set the layout of the figure and display it\n",
        "\tfigure.tight_layout()\n",
        "\tfigure.show()\n"
      ]
    },
    {
      "cell_type": "code",
      "execution_count": null,
      "metadata": {
        "id": "F0cHZrb2xp1o"
      },
      "outputs": [],
      "source": [
        "def make_predictions(model, imagePath):\n",
        "\t# set model to evaluation mode\n",
        "\tmodel.eval()\n",
        "\n",
        "\t# turn off gradient tracking\n",
        "\twith torch.no_grad():\n",
        "\t\t# load the image from disk, swap its color channels, cast it\n",
        "\t\t# to float data type, and scale its pixel values\n",
        "\t\timage = cv2.imread(imagePath)\n",
        "\t\timage = cv2.cvtColor(image, cv2.COLOR_BGR2RGB)\n",
        "\t\timage = image.astype(\"float32\") / 255.0\n",
        "\n",
        "\t\t# resize the image and make a copy of it for visualization\n",
        "\t\timage = cv2.resize(image, (128, 128))\n",
        "\t\torig = image.copy()\n",
        "\n",
        "\t\t# find the filename and generate the path to ground truth\n",
        "\t\t# mask\n",
        "\t\tfilename = imagePath.split(os.path.sep)[-1]\n",
        "\t\tgroundTruthPath = os.path.join(config.MASK_DATASET_PATH,\n",
        "\t\t\tfilename)\n",
        "\n",
        "\t\t# load the ground-truth segmentation mask in grayscale mode\n",
        "\t\t# and resize it\n",
        "\t\tgtMask = cv2.imread(groundTruthPath, 0)\n",
        "\t\tgtMask = cv2.resize(gtMask, (config.INPUT_IMAGE_HEIGHT,\n",
        "\t\t\tconfig.INPUT_IMAGE_HEIGHT))\n",
        "\n",
        "  \t# make the channel axis to be the leading one, add a batch\n",
        "\t\t# dimension, create a PyTorch tensor, and flash it to the\n",
        "\t\t# current device\n",
        "\t\timage = np.transpose(image, (2, 0, 1))\n",
        "\t\timage = np.expand_dims(image, 0)\n",
        "\t\timage = torch.from_numpy(image).to(config.DEVICE)\n",
        "\n",
        "\t\t# make the prediction, pass the results through the sigmoid\n",
        "\t\t# function, and convert the result to a NumPy array\n",
        "\t\tpredMask = model(image).squeeze()\n",
        "\t\tpredMask = torch.sigmoid(predMask)\n",
        "\t\tpredMask = predMask.cpu().numpy()\n",
        "\n",
        "\t\t# filter out the weak predictions and convert them to integers\n",
        "\t\tpredMask = (predMask > config.THRESHOLD) * 255\n",
        "\t\tpredMask = predMask.astype(np.uint8)\n",
        "\n",
        "\t\t# prepare a plot for visualization\n",
        "\t\tprepare_plot(orig, gtMask, predMask)"
      ]
    },
    {
      "cell_type": "code",
      "execution_count": null,
      "metadata": {
        "id": "lDaALqJ_xsk8"
      },
      "outputs": [],
      "source": [
        "# load the image paths in our testing file and randomly select 10\n",
        "# image paths\n",
        "print(\"[INFO] loading up test image paths...\")\n",
        "imagePaths = open(config.TEST_PATHS).read().strip().split(\"\\n\")\n",
        "imagePaths = np.random.choice(imagePaths, size=10)\n",
        "\n",
        "# load our model from disk and flash it to the current device\n",
        "print(\"[INFO] load up model...\")\n",
        "unet = torch.load(config.MODEL_PATH).to(config.DEVICE)\n",
        "\n",
        "# iterate over the randomly selected test image paths\n",
        "for path in imagePaths:\n",
        "\t# make predictions and visualize the results\n",
        "\tmake_predictions(unet, path)"
      ]
    }
  ],
  "metadata": {
    "colab": {
      "provenance": []
    },
    "kernelspec": {
      "display_name": "Python 3",
      "name": "python3"
    },
    "language_info": {
      "codemirror_mode": {
        "name": "ipython",
        "version": 3
      },
      "file_extension": ".py",
      "mimetype": "text/x-python",
      "name": "python",
      "nbconvert_exporter": "python",
      "pygments_lexer": "ipython3",
      "version": "3.11.5"
    }
  },
  "nbformat": 4,
  "nbformat_minor": 0
}
