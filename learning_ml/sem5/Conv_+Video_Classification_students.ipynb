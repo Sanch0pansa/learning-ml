{
  "cells": [
    {
      "cell_type": "code",
      "execution_count": null,
      "metadata": {
        "colab": {
          "base_uri": "https://localhost:8080/"
        },
        "id": "N0jR6XuUHJ8U",
        "outputId": "423cf80c-3416-4688-a148-d6e38e0b3927"
      },
      "outputs": [
        {
          "name": "stdout",
          "output_type": "stream",
          "text": [
            "Looking in indexes: https://pypi.org/simple, https://us-python.pkg.dev/colab-wheels/public/simple/\n",
            "Collecting git+https://github.com/arogozhnikov/einops\n",
            "  Cloning https://github.com/arogozhnikov/einops to /tmp/pip-req-build-lyqht2l7\n",
            "  Running command git clone -q https://github.com/arogozhnikov/einops /tmp/pip-req-build-lyqht2l7\n",
            "  Installing build dependencies ... \u001b[?25l\u001b[?25hdone\n",
            "  Getting requirements to build wheel ... \u001b[?25l\u001b[?25hdone\n",
            "    Preparing wheel metadata ... \u001b[?25l\u001b[?25hdone\n"
          ]
        }
      ],
      "source": [
        "!pip3 install git+https://github.com/arogozhnikov/einops"
      ]
    },
    {
      "cell_type": "markdown",
      "metadata": {
        "id": "s55ZdNs_dr89"
      },
      "source": [
        "# Separable convolutions"
      ]
    },
    {
      "cell_type": "markdown",
      "metadata": {
        "id": "GN1Ox7zHeFii"
      },
      "source": [
        "![](https://miro.medium.com/v2/resize:fit:4800/format:webp/1*o3mKhG3nHS-1dWa_plCeFw.png)"
      ]
    },
    {
      "cell_type": "code",
      "execution_count": 5,
      "metadata": {
        "id": "SdYMgEOTeyX4"
      },
      "outputs": [],
      "source": [
        "import torch\n",
        "from torch import nn\n",
        "from einops import rearrange\n"
      ]
    },
    {
      "cell_type": "code",
      "execution_count": 8,
      "metadata": {
        "id": "KOht7Z3XeE34"
      },
      "outputs": [],
      "source": [
        "class SeparableDepthwise(nn.Module):\n",
        "    def __init__(self, c, kernel_size):\n",
        "        super(SeparableDepthwise, self).__init__()\n",
        "    \n",
        "        self.c = c\n",
        "        self.kernel_size = kernel_size\n",
        "        self.filters = nn.ModuleList(\n",
        "            nn.Conv2d(in_channels=1, out_channels=1, kernel_size=kernel_size)\n",
        "            for _ in range(c)\n",
        "        )\n",
        "    \n",
        "    def forward(self, x):\n",
        "        channels = rearrange(x, 'b c h w -> c b 1 h w')\n",
        "        new_channels = []\n",
        "        for i in range(self.c):\n",
        "            new_channels.append(self.filters[i](channels[i]))\n",
        "        out = rearrange(new_channels, 'c b 1 h w -> b c h w')\n",
        "        return out\n",
        "      \n",
        "\n",
        "\n",
        "class SeparableConv2d(nn.Module):\n",
        "  def __init__(self, in_channels, out_channels, kernel_size, bias=False):\n",
        "      super(SeparableConv2d, self).__init__()\n",
        "      self.depthwise = SeparableDepthwise(in_channels, kernel_size)\n",
        "      self.pointwise = nn.Sequential(\n",
        "         nn.Conv2d(kernel_size=1, in_channels=in_channels, out_channels=out_channels)\n",
        "      )\n",
        "\n",
        "  def forward(self, x):\n",
        "      out = self.depthwise(x)\n",
        "      out = self.pointwise(out)\n",
        "      return out"
      ]
    },
    {
      "cell_type": "code",
      "execution_count": 11,
      "metadata": {},
      "outputs": [
        {
          "name": "stdout",
          "output_type": "stream",
          "text": [
            "torch.Size([1, 5, 25, 25])\n"
          ]
        },
        {
          "data": {
            "text/plain": [
              "torch.Size([1, 3, 23, 23])"
            ]
          },
          "execution_count": 11,
          "metadata": {},
          "output_type": "execute_result"
        }
      ],
      "source": [
        "features = torch.rand([1, 5, 25, 25])\n",
        "print(features.size())\n",
        "out = SeparableConv2d(5, 3, 3)\n",
        "out(features).shape"
      ]
    },
    {
      "cell_type": "markdown",
      "metadata": {
        "id": "yWVO-ilt9Kez"
      },
      "source": [
        "# R(2+1) conv"
      ]
    },
    {
      "cell_type": "markdown",
      "metadata": {
        "id": "YS4XxtqE7x-D"
      },
      "source": [
        "https://www.tensorflow.org/tutorials/video/video_classification\n",
        "\n",
        "https://paperswithcode.com/method/2-1-d-convolution"
      ]
    },
    {
      "cell_type": "markdown",
      "metadata": {
        "id": "DpIH07bvtYlB"
      },
      "source": [
        "![alt text](https://drive.google.com/uc?export=view&id=1DDI_5xclb7wb1V2vtDzgoAKm2psjd1qb)"
      ]
    },
    {
      "cell_type": "code",
      "execution_count": 25,
      "metadata": {
        "id": "9u0zA_J97Z2c"
      },
      "outputs": [],
      "source": [
        "import torch\n",
        "from torch import nn as nn\n",
        "from einops.layers.torch import Rearrange"
      ]
    },
    {
      "cell_type": "code",
      "execution_count": 32,
      "metadata": {
        "id": "UL_sMr0n9sUn"
      },
      "outputs": [],
      "source": [
        "class R2_and1_conv(torch.nn.Module):\n",
        "  def __init__(self, in_channels, out_channels, kernel_size):\n",
        "    super().__init__()\n",
        "    self.in_channels = in_channels\n",
        "    self.out_channels = out_channels\n",
        "    self.kernel_size = kernel_size\n",
        "\n",
        "    self.first_step = nn.Sequential(\n",
        "      Rearrange('c t w h -> t c w h'),\n",
        "      SeparableDepthwise(in_channels, kernel_size=(kernel_size[0], kernel_size[1])),\n",
        "      Rearrange('t c w h -> c t w h')\n",
        "    )\n",
        "    \n",
        "    self.second_step = nn.Sequential(\n",
        "      # Это просто конв-слой размеров k*1*1\n",
        "      nn.Conv3d(in_channels=in_channels, out_channels=out_channels, kernel_size=(kernel_size[2], 1, 1))\n",
        "    )\n",
        "\n",
        "    # first step: [c, t, h, w] -> [c, t, h1, w1]\n",
        "    # second step: [c, t, h1, w1] -> [c, t2, h1, w1]\n",
        "\n",
        "  def forward(self, x):\n",
        "    out = self.first_step(x)\n",
        "    out = self.second_step(out)\n",
        "    return out"
      ]
    },
    {
      "cell_type": "code",
      "execution_count": 13,
      "metadata": {
        "id": "vBTuhVLV-CqV"
      },
      "outputs": [],
      "source": [
        "# [c, t, h, w]\n",
        "x = torch.rand((1, 10, 5, 5))\n",
        "conv3d = nn.Conv3d(in_channels=1, out_channels=1, kernel_size=3)"
      ]
    },
    {
      "cell_type": "code",
      "execution_count": 14,
      "metadata": {
        "colab": {
          "base_uri": "https://localhost:8080/"
        },
        "id": "VPeBWw0u-rwo",
        "outputId": "ea98e62a-fc91-47a5-d965-99c97d7d9e3e"
      },
      "outputs": [
        {
          "data": {
            "text/plain": [
              "torch.Size([1, 8, 3, 3])"
            ]
          },
          "execution_count": 14,
          "metadata": {},
          "output_type": "execute_result"
        }
      ],
      "source": [
        "out_x = conv3d(x)\n",
        "out_x.shape"
      ]
    },
    {
      "cell_type": "code",
      "execution_count": 33,
      "metadata": {
        "colab": {
          "base_uri": "https://localhost:8080/"
        },
        "id": "6IY1rj1FAhWu",
        "outputId": "3591b3e7-6ba1-4463-962f-452ac0d470e6"
      },
      "outputs": [
        {
          "data": {
            "text/plain": [
              "torch.Size([1, 8, 3, 3])"
            ]
          },
          "execution_count": 33,
          "metadata": {},
          "output_type": "execute_result"
        }
      ],
      "source": [
        "out_x2 = R2_and1_conv(1, 1, [3, 3, 3])(x)\n",
        "out_x2.shape"
      ]
    },
    {
      "cell_type": "code",
      "execution_count": null,
      "metadata": {
        "id": "-iD_OB5TBw6O"
      },
      "outputs": [],
      "source": []
    },
    {
      "cell_type": "markdown",
      "metadata": {
        "id": "P1OeNvLnJH6O"
      },
      "source": [
        "#Temporal attention"
      ]
    },
    {
      "cell_type": "markdown",
      "metadata": {
        "id": "_ZkTeAuGL3-5"
      },
      "source": [
        "[GLTR](https://openaccess.thecvf.com/content_ICCV_2019/papers/Li_Global-Local_Temporal_Representations_for_Video_Person_Re-Identification_ICCV_2019_paper.pdf)"
      ]
    },
    {
      "cell_type": "code",
      "execution_count": null,
      "metadata": {
        "id": "2rECnjuOL3ih"
      },
      "outputs": [],
      "source": [
        "T = 100 #10frames\n",
        "d = 20 #inner dim size\n",
        "input_features = torch.rand((d, T))"
      ]
    },
    {
      "cell_type": "code",
      "execution_count": null,
      "metadata": {
        "id": "SfhKFfQsVmLN"
      },
      "outputs": [],
      "source": [
        "class GLRT(nn.Module):\n",
        "  def __init__(self):\n",
        "    super().__init__()\n",
        "\n",
        "  def forward(self, f):\n",
        "    pass"
      ]
    },
    {
      "cell_type": "code",
      "execution_count": null,
      "metadata": {
        "colab": {
          "base_uri": "https://localhost:8080/"
        },
        "id": "tz3urow5Z-dT",
        "outputId": "74d87090-e7aa-4ce4-b886-b9d293ecd7b1"
      },
      "outputs": [
        {
          "data": {
            "text/plain": [
              "torch.Size([60, 1])"
            ]
          },
          "execution_count": 214,
          "metadata": {},
          "output_type": "execute_result"
        }
      ],
      "source": [
        "\n",
        "GLRT()(input_features).shape"
      ]
    }
  ],
  "metadata": {
    "colab": {
      "provenance": []
    },
    "kernelspec": {
      "display_name": "Python 3",
      "name": "python3"
    },
    "language_info": {
      "codemirror_mode": {
        "name": "ipython",
        "version": 3
      },
      "file_extension": ".py",
      "mimetype": "text/x-python",
      "name": "python",
      "nbconvert_exporter": "python",
      "pygments_lexer": "ipython3",
      "version": "3.11.5"
    }
  },
  "nbformat": 4,
  "nbformat_minor": 0
}
