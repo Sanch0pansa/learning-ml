{
  "cells": [
    {
      "cell_type": "markdown",
      "metadata": {
        "id": "vtKLj3EjRVAT"
      },
      "source": [
        "План семинара **\"Реализация собственных операторов на языке Python в фреймворке Pytorch\"**\n",
        "1. [Squeeze-and-Excitation (SE) Block](https://arxiv.org/abs/1709.01507)\n",
        "2. [Selective Kernel (SK) Convolution](https://arxiv.org/abs/1903.06586)"
      ]
    },
    {
      "cell_type": "markdown",
      "metadata": {
        "id": "w_AuOxMxTb-5"
      },
      "source": [
        "# Squeeze-and-Excitation (SE) Block"
      ]
    },
    {
      "cell_type": "markdown",
      "metadata": {
        "id": "WtU5GEDETgWF"
      },
      "source": [
        "“Squeeze-and-Excitation” (SE) block can adaptively recalibrates\n",
        "channel-wise feature responses by explicitly modelling interdependencies between channels."
      ]
    },
    {
      "cell_type": "code",
      "execution_count": 50,
      "metadata": {
        "id": "X_mydDHhTfmE"
      },
      "outputs": [],
      "source": [
        "import torch\n",
        "from torch import nn\n",
        "\n",
        "class SEBlock(nn.Module):\n",
        "    \"\"\"\n",
        "    Implementation of the Squeeze-and-Excitation (SE) block proposed in [1].\n",
        "    Parameters\n",
        "    ----------\n",
        "    in_channels : int\n",
        "        Number of channels in the input tensor.\n",
        "    reduction : int, optional, default=16\n",
        "        Reduction ratio to control the intermediate channel dimension.\n",
        "    References\n",
        "    ----------\n",
        "    1. \"`Squeeze-and-Excitation Networks. <https://arxiv.org/abs/1709.01507>`_\" Jie Hu, et al. CVPR 2018.\n",
        "    \"\"\"\n",
        "\n",
        "    def __init__(\n",
        "        self,\n",
        "        in_channels: int,\n",
        "        reduction: int = 16\n",
        "    ) -> None:\n",
        "        super(SEBlock, self).__init__()\n",
        "\n",
        "        middle_channels = max(4, in_channels // reduction)\n",
        "        self.squeeze = nn.AdaptiveAvgPool2d((1, 1))\n",
        "        # self.excitation = nn.Sequential(\n",
        "        #         nn.Linear(in_channels, out_channels),\n",
        "        #         nn.ReLU(),\n",
        "        #         nn.Linear(out_channels, in_channels),\n",
        "        #         nn.Sigmoid()\n",
        "        #     )\n",
        "        self.excitation = nn.Sequential(\n",
        "            nn.Conv2d(in_channels, middle_channels, 1, 1),\n",
        "            nn.ReLU(),\n",
        "            nn.Conv2d(middle_channels, in_channels, 1, 1),\n",
        "            nn.Sigmoid()\n",
        "        )\n",
        "\n",
        "    def forward(self, x: torch.Tensor) -> torch.Tensor:\n",
        "        \"\"\"\n",
        "        Parameters\n",
        "        ----------\n",
        "        x : torch.Tensor (batch_size, in_channels, height, width)\n",
        "            Input tensor.\n",
        "        Returns\n",
        "        -------\n",
        "        out : torch.Tensor (batch_size, in_channels, height, width)\n",
        "            Output of the SK convolution layer.\n",
        "        \"\"\"\n",
        "        # x: [b, c, h, w]\n",
        "        # z = 1/(x.size(dim=2) * x.size(dim=3)) * (torch.sum(x, dim=(2, 3)))\n",
        "        # z = torch.reshape(self.squeeze(x), (x.size(dim=0), x.size(dim=1)))\n",
        "        z = self.squeeze(x)\n",
        "        # print(z.size())\n",
        "        # print(z)\n",
        "        s = self.excitation(z)\n",
        "        # print(s.size(), x.size())\n",
        "        s = torch.reshape(s, (x.size(dim=0), x.size(dim=1), 1, 1))\n",
        "        out = s * x\n",
        "        return out"
      ]
    },
    {
      "cell_type": "code",
      "execution_count": 51,
      "metadata": {
        "colab": {
          "base_uri": "https://localhost:8080/"
        },
        "id": "aOHbgJ_HVDnT",
        "outputId": "ff01bee2-484c-410e-cf5e-809832fa3c66"
      },
      "outputs": [
        {
          "data": {
            "text/plain": [
              "torch.Size([1, 32, 30, 28])"
            ]
          },
          "execution_count": 51,
          "metadata": {},
          "output_type": "execute_result"
        }
      ],
      "source": [
        "features = torch.rand(1, 32, 30, 28)\n",
        "out = SEBlock(32)\n",
        "out(features).shape"
      ]
    },
    {
      "cell_type": "markdown",
      "metadata": {
        "id": "pn6zgoRbTeHv"
      },
      "source": [
        "# Selective Kernel (SK) Convolution"
      ]
    },
    {
      "cell_type": "markdown",
      "metadata": {
        "id": "q9n-ayyPeikO"
      },
      "source": [
        "To enable the neurons to adaptively adjust their RF sizes,\n",
        "we propose an automatic selection operation, “Selective\n",
        "Kernel” (SK) convolution, among multiple kernels with different kernel sizes"
      ]
    },
    {
      "cell_type": "code",
      "execution_count": 125,
      "metadata": {
        "id": "q73b0ujBVC6Q"
      },
      "outputs": [],
      "source": [
        "import torch\n",
        "from torch import nn\n",
        "from typing import List, Optional\n",
        "from einops.layers.torch import Rearrange, Reduce\n",
        "\n",
        "class SKConv(nn.Module):\n",
        "    \"\"\"\n",
        "    Implementation of the Selective Kernel (SK) Convolution proposed in [1].\n",
        "    Parameters\n",
        "    ----------\n",
        "    in_channels : int\n",
        "        Number of channels in the input tensor.\n",
        "    out_channels : int\n",
        "        Number of channels produced by the convolution.\n",
        "    kernels : List[int], optional, default=[3, 5]\n",
        "        List of kernel sizes for each branch.\n",
        "    reduction : int, optional, default=16\n",
        "        Reduction ratio to control the dimension of \"compact feature\" ``z`` (see eq.4).\n",
        "    L : int, optional, default=32\n",
        "        Minimal value of the dimension of \"compact feature\" ``z`` (see eq.4).\n",
        "    groups : int, optional, default=32\n",
        "        Hyperparameter for ``torch.nn.Conv2d``.\n",
        "    References\n",
        "    ----------\n",
        "    1. \"`Selective Kernel Networks. <https://arxiv.org/abs/1903.06586>`_\" Xiang Li, et al. CVPR 2019.\n",
        "    \"\"\"\n",
        "\n",
        "    def __init__(\n",
        "        self,\n",
        "        in_channels: int,\n",
        "        out_channels: Optional[int] = None,\n",
        "        kernels: List[int] = [3, 5],\n",
        "        reduction: int = 16,\n",
        "        L: int = 32,\n",
        "        groups: int = 32\n",
        "    ) -> None:\n",
        "        super(SKConv, self).__init__()\n",
        "\n",
        "        if out_channels is None:\n",
        "            out_channels = in_channels\n",
        "        self.out_channels = out_channels\n",
        "\n",
        "        d = max(out_channels // reduction, L) # eq.4\n",
        "\n",
        "        self.M = len(kernels)\n",
        "\n",
        "        self.convs = nn.ModuleList([\n",
        "                nn.Sequential(\n",
        "                  nn.Conv2d(in_channels, out_channels, kernel_size=3, dilation=(k // 2), stride=1, padding_mode=\"zeros\", padding=(k // 2)),\n",
        "                  nn.BatchNorm2d(num_features=in_channels),\n",
        "                  nn.ReLU(),\n",
        "            )\n",
        "            for k in kernels\n",
        "        ])\n",
        "\n",
        "        self.pool = nn.AdaptiveAvgPool2d((1, 1))\n",
        "\n",
        "        self.fc_z = nn.Sequential(\n",
        "            # nn.Conv2d(in_channels=in_channels, out_channels=d, kernel_size=1),\n",
        "            nn.Linear(in_features=out_channels, out_features=d),\n",
        "            nn.BatchNorm1d(num_features=d),\n",
        "            nn.ReLU(),\n",
        "        )\n",
        "        self.fc_attn = nn.Linear(in_features=d, out_features=out_channels*len(kernels))\n",
        "        self.softmax = nn.Softmax(dim=1)\n",
        "\n",
        "    def forward(self, x: torch.Tensor) -> torch.Tensor:\n",
        "        \"\"\"\n",
        "        Parameters\n",
        "        ----------\n",
        "        x : torch.Tensor (batch_size, in_channels, height, width)\n",
        "            Input tensor.\n",
        "        Returns\n",
        "        -------\n",
        "        out : torch.Tensor (batch_size, out_channels, height, width)\n",
        "            Output of the SK convolution layer.\n",
        "        \"\"\"\n",
        "        #Conv2d , AvgPoll, softmax, ReLU, BatchNorm, Linear\n",
        "\n",
        "        # ----- split -----\n",
        "        # x: [b, c, h, w]\n",
        "        b, c, h, w = x.size(dim=0), x.size(dim=1), x.size(dim=2), x.size(dim=3)\n",
        "        M = len(self.convs)\n",
        "        feats = torch.cat([conv(x).unsqueeze(1) for conv in self.convs], dim=1)  # [b, M, c, h, w]\n",
        "    \n",
        "\n",
        "        # ----- fuse -----\n",
        "        # eq.1\n",
        "        U = torch.sum(feats, dim=1)\n",
        "        # channel-wise statistics, eq.2\n",
        "        s = self.pool(U) #s: [b, c]\n",
        "        s = s.reshape([b, c])\n",
        "        # compact feature, eq.3\n",
        "        z = self.fc_z(s) # z [b, d]\n",
        "\n",
        "        # ----- select -----\n",
        "        batch_size, out_channels = s.shape\n",
        "\n",
        "        # attention map, eq.5\n",
        "        score = self.fc_attn(z)  # (batch_size, M * out_channels)\n",
        "        score = score.view(b, M, out_channels, 1, 1)  # (batch_size, M, out_channels, 1, 1)\n",
        "        att = self.softmax(score)\n",
        "        \n",
        "\n",
        "\n",
        "        # fuse multiple branches, eq.6\n",
        "        out = torch.sum(feats * att, dim=1).reshape([b, out_channels, h, w])  # (batch_size, out_channels, height, width)\n",
        "        return out"
      ]
    },
    {
      "cell_type": "code",
      "execution_count": 126,
      "metadata": {
        "colab": {
          "base_uri": "https://localhost:8080/"
        },
        "id": "cmcAyPakUdoA",
        "outputId": "9044b6b2-e4c4-499c-deda-addd61724122"
      },
      "outputs": [
        {
          "name": "stdout",
          "output_type": "stream",
          "text": [
            "torch.Size([1, 544, 25, 25])\n"
          ]
        },
        {
          "data": {
            "text/plain": [
              "torch.Size([1, 544, 25, 25])"
            ]
          },
          "execution_count": 126,
          "metadata": {},
          "output_type": "execute_result"
        }
      ],
      "source": [
        "features = torch.rand([1, 34*16, 25, 25])\n",
        "print(features.size())\n",
        "out = SKConv(34*16).eval()\n",
        "out(features).shape"
      ]
    },
    {
      "cell_type": "code",
      "execution_count": null,
      "metadata": {
        "colab": {
          "base_uri": "https://localhost:8080/"
        },
        "id": "BNKG8vIKeKNg",
        "outputId": "4ef91f3f-8d8e-4b5f-c037-6bc8b3272d17"
      },
      "outputs": [
        {
          "data": {
            "text/plain": [
              "torch.Size([3, 3, 3, 3])"
            ]
          },
          "execution_count": 14,
          "metadata": {},
          "output_type": "execute_result"
        }
      ],
      "source": [
        "n = nn.Conv2d(3, 3, kernel_size=3)\n",
        "n.weight.shape"
      ]
    },
    {
      "cell_type": "code",
      "execution_count": null,
      "metadata": {
        "colab": {
          "base_uri": "https://localhost:8080/"
        },
        "id": "Ph1iTPZda_cB",
        "outputId": "20e9170b-bc34-4e27-cb63-98d450db43b0"
      },
      "outputs": [
        {
          "data": {
            "text/plain": [
              "torch.Size([3, 1, 3, 3])"
            ]
          },
          "execution_count": 13,
          "metadata": {},
          "output_type": "execute_result"
        }
      ],
      "source": [
        "n = nn.Conv2d(3, 3, kernel_size=3, groups=3)\n",
        "n.weight.shape"
      ]
    },
    {
      "cell_type": "code",
      "execution_count": null,
      "metadata": {
        "colab": {
          "base_uri": "https://localhost:8080/"
        },
        "id": "lZL-49lsbDql",
        "outputId": "7227d95c-c860-4608-dc55-c3cdfd33cfec"
      },
      "outputs": [
        {
          "data": {
            "text/plain": [
              "torch.Size([1, 3, 23, 23])"
            ]
          },
          "execution_count": 80,
          "metadata": {},
          "output_type": "execute_result"
        }
      ],
      "source": [
        "features = torch.rand(1, 3, 25, 25)\n",
        "n(features).shape"
      ]
    },
    {
      "cell_type": "code",
      "execution_count": null,
      "metadata": {
        "id": "xH1GgjM-z3Rv"
      },
      "outputs": [],
      "source": []
    }
  ],
  "metadata": {
    "colab": {
      "provenance": []
    },
    "kernelspec": {
      "display_name": "Python 3",
      "name": "python3"
    },
    "language_info": {
      "codemirror_mode": {
        "name": "ipython",
        "version": 3
      },
      "file_extension": ".py",
      "mimetype": "text/x-python",
      "name": "python",
      "nbconvert_exporter": "python",
      "pygments_lexer": "ipython3",
      "version": "3.11.5"
    }
  },
  "nbformat": 4,
  "nbformat_minor": 0
}
